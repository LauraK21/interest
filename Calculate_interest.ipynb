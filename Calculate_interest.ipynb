{
 "cells": [
  {
   "cell_type": "code",
   "execution_count": null,
   "metadata": {},
   "outputs": [],
   "source": [
    "#SAVINGS\n",
    "# \n",
    "# Récupération d'un montant valide\n",
    "while True:\n",
    "    try:\n",
    "        amount= float(input(\"Please enter the amount you want to invest?\"))\n",
    "        convert_to_float=float(amount)\n",
    "        break\n",
    "    except ValueError:\n",
    "        print(\"Please try again and enter a numeric value\")\n",
    "\n",
    "while (amount<0) :\n",
    "    print(\"Only positive amounts are authorized.\")\n",
    "    amount= float(input(\"Please enter the amount you want to invest?\"))\n",
    "\n",
    "print(\"Amount to invest :\", amount)\n",
    "\n",
    "# Récupération d'un IR valide\n",
    "while True:\n",
    "    try:\n",
    "        IR = float(input(\"Please enter an positive IR between 0 and 100.\"))\n",
    "        convert_to_float=float(IR)\n",
    "        break\n",
    "    except ValueError:\n",
    "        print(\"Please try again and enter a numeric value\")\n",
    "\n",
    "while (IR>100) or (IR<0) :\n",
    "    print('Only positive IR are authorized.')\n",
    "    IR = float(input(\"What is the interest rate ?\"))\n",
    "\n",
    "print(\"Interest rate\", amount)\n",
    "\n",
    "\n",
    "# Récupération d'un Nb d'années valide\n",
    "while True:\n",
    "    try:\n",
    "        duration = float(input(\"Please enter a positive duration.\"))\n",
    "        convert_to_float=float(duration)\n",
    "        break\n",
    "    except ValueError:\n",
    "        print(\"Please try again and enter a numeric value\")\n",
    "\n",
    "while duration<0:\n",
    "    print('Only positive durations are authorized.')\n",
    "    IR = float(input(\"What is the interest rate ?\"))\n",
    "\n",
    "def money_savings(amount,IR,duration):\n",
    "    return amount*(1+(IR/100))**duration\n",
    "\n",
    "result=money_savings(amount, IR, duration)\n",
    "\n",
    "print(\"The total amount of money you will have after you deposit {:.2f} at the end of {:.0f} years will be {:.2f} €\".format(amount,duration,result))"
   ]
  }
 ],
 "metadata": {
  "kernelspec": {
   "display_name": "Python 3",
   "language": "python",
   "name": "python3"
  },
  "language_info": {
   "codemirror_mode": {
    "name": "ipython",
    "version": 3
   },
   "file_extension": ".py",
   "mimetype": "text/x-python",
   "name": "python",
   "nbconvert_exporter": "python",
   "pygments_lexer": "ipython3",
   "version": "3.11.2"
  },
  "orig_nbformat": 4,
  "vscode": {
   "interpreter": {
    "hash": "80a71c6d6069aabe79520de0d3825a36d9c279a912de6de59ca84c7ce8663bb3"
   }
  }
 },
 "nbformat": 4,
 "nbformat_minor": 2
}
